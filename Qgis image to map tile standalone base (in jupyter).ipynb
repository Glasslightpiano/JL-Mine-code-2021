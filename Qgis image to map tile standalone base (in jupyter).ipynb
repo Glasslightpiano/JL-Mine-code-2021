{
 "cells": [
  {
   "cell_type": "code",
   "execution_count": 1,
   "id": "43479605-1bd2-4686-8f4b-3dbd711e2cf5",
   "metadata": {},
   "outputs": [
    {
     "data": {
      "text/plain": [
       "{'OUTPUT_DIRECTORY': 'D:\\\\ArcMap test\\\\Qgis code test\\\\Tile\\\\qgistilb\\\\',\n",
       " 'OUTPUT_HTML': 'C:/Users/Arcgis1/AppData/Local/Temp/processing_urJeXC/0b83de730ca24c6a84498420e5d1c808/OUTPUT_HTML.html'}"
      ]
     },
     "execution_count": 1,
     "metadata": {},
     "output_type": "execute_result"
    }
   ],
   "source": [
    "from qgis.core import *\n",
    "\n",
    "qgs = QgsApplication([], False)\n",
    "qgs.setPrefixPath(\"C:\\\\OSGeo4W\\\\apps\\\\qgis\", True)\n",
    "qgs.initQgis()\n",
    "\n",
    "# Set coordinate\n",
    "QgsProject.instance().setCrs(QgsCoordinateReferenceSystem('EPSG:3857'))\n",
    "\n",
    "import processing\n",
    "from processing.core.Processing import Processing\n",
    "\n",
    "Processing.initialize()\n",
    "\n",
    "# set image path\n",
    "path = \"D:\\\\ArcMap test\\\\Qgis code test\\\\\"\n",
    "\n",
    "# image without coordinate\n",
    "image_path = path + \"Image test\\\\GA9-5.jpg\"\n",
    "# image with coordinate\n",
    "CRS_image_path = path + \"map tile\\\\GA9-5.jpg\"\n",
    "\n",
    "# set coordinate: EPSG:3826\n",
    "processing.run(\"gdal:warpreproject\", {\n",
    "    'INPUT': image_path,\n",
    "    'SOURCE_CRS': None,\n",
    "    'TARGET_CRS': 'EPSG:3826',\n",
    "    'RESAMPLING': 0,\n",
    "    'NODATA': None,\n",
    "    'TARGET_RESOLUTION': None,\n",
    "    'OPTIONS': '',\n",
    "    'DATA_TYPE': 0,\n",
    "    'TARGET_EXTENT': None,\n",
    "    'TARGET_EXTENT_CRS': None,\n",
    "    'MULTITHREADING': False,\n",
    "    'EXTRA': '',\n",
    "    'OUTPUT': CRS_image_path\n",
    "})\n",
    "\n",
    "from PyQt5.QtCore import *\n",
    "\n",
    "# add image (with coordinate)\n",
    "def StringToRaster(raster):\n",
    "    fileInfo = QFileInfo(raster)\n",
    "    path = fileInfo.filePath()\n",
    "    baseName = fileInfo.baseName()\n",
    "    layer = QgsRasterLayer(path, baseName)\n",
    "    QgsProject.instance().addMapLayer(layer)\n",
    "\n",
    "fn = CRS_image_path\n",
    "\n",
    "StringToRaster(fn)\n",
    "\n",
    "# map tile\n",
    "processing.run(\"qgis:tilesxyzdirectory\", {\n",
    "    'EXTENT': '13522390.9099, 13528797.2088, 2906026.6409, 2911227.5521',\n",
    "    'ZOOM_MIN': 0,\n",
    "    'ZOOM_MAX': 12,\n",
    "    'DPI': 96,\n",
    "    'TILE_FORMAT': 0,\n",
    "    'QUALITY': 75,\n",
    "    'METATILESIZE': 4,\n",
    "    'TILE_WIDTH': 256,\n",
    "    'TILE_HEIGHT': 256,\n",
    "    'TMS_CONVENTION': False,\n",
    "    'OUTPUT_DIRECTORY': path + \"Tile\\\\qgistilb\\\\\", 'OUTPUT_HTML': 'TEMPORARY_OUTPUT'\n",
    "})\n"
   ]
  },
  {
   "cell_type": "code",
   "execution_count": null,
   "id": "2d3f5a83-e5c3-43fb-a6e7-c67e51902ed8",
   "metadata": {},
   "outputs": [],
   "source": []
  }
 ],
 "metadata": {
  "kernelspec": {
   "display_name": "Python 3 (ipykernel)",
   "language": "python",
   "name": "python3"
  },
  "language_info": {
   "codemirror_mode": {
    "name": "ipython",
    "version": 3
   },
   "file_extension": ".py",
   "mimetype": "text/x-python",
   "name": "python",
   "nbconvert_exporter": "python",
   "pygments_lexer": "ipython3",
   "version": "3.7.11"
  }
 },
 "nbformat": 4,
 "nbformat_minor": 5
}
