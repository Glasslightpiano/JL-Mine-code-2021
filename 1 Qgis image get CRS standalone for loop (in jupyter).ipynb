{
 "cells": [
  {
   "cell_type": "code",
   "execution_count": 1,
   "id": "a026990f-d510-4f8c-870b-ffeae935bad4",
   "metadata": {},
   "outputs": [
    {
     "name": "stdout",
     "output_type": "stream",
     "text": [
      "GA9-13.jpg get coordinate!\n",
      "GA9-8.jpg get coordinate!\n",
      "GA9-3.jpg get coordinate!\n",
      "Finish!\n"
     ]
    }
   ],
   "source": [
    "from qgis.core import *\n",
    "\n",
    "qgs = QgsApplication([], False)\n",
    "qgs.setPrefixPath(\"C:\\\\OSGeo4W\\\\apps\\\\qgis\", True)\n",
    "qgs.initQgis()\n",
    "\n",
    "# Set coordinate\n",
    "QgsProject.instance().setCrs(QgsCoordinateReferenceSystem('EPSG:3857'))\n",
    "\n",
    "import processing\n",
    "from processing.core.Processing import Processing\n",
    "\n",
    "Processing.initialize()\n",
    "\n",
    "import os\n",
    "\n",
    "# Set frame path\n",
    "frame_path = \"D:\\\\ArcMap test\\\\Qgis code test\\\\Mine frame shp\\\\MineArea_test.shp\"\n",
    "# Set image input and output path\n",
    "input_path = \"D:\\\\ArcMap test\\\\Qgis code test\\\\Image test\\\\\"\n",
    "CRS_output = \"D:\\\\ArcMap test\\\\Qgis code test\\\\CRS image\\\\\"\n",
    "\n",
    "# List of image file path\n",
    "image = os.listdir(input_path)\n",
    "\n",
    "# Select the mine frame ID\n",
    "Mine_frame = QgsVectorLayer(frame_path, '', 'ogr')\n",
    "frame_layer = Mine_frame.getFeatures()\n",
    "for data in frame_layer:\n",
    "    frame_ID = data.attributes()\n",
    "    select_id = frame_ID[0]\n",
    "\n",
    "    # Select \".jpg\" image if the name same to frame ID\n",
    "    for name in image:\n",
    "        if select_id in name:\n",
    "            if name.endswith(\".jpg\"):\n",
    "                input_layer = input_path + name\n",
    "                out_layer = CRS_output + name\n",
    "\n",
    "                # set coordinate \"EPSG:3826\"\n",
    "                processing.run(\"gdal:warpreproject\",\n",
    "                               {'INPUT': input_layer,\n",
    "                                'SOURCE_CRS': None,\n",
    "                                'TARGET_CRS': 'EPSG:3826',\n",
    "                                'RESAMPLING': 0,\n",
    "                                'NODATA': None,\n",
    "                                'TARGET_RESOLUTION': None,\n",
    "                                'OPTIONS': '',\n",
    "                                'DATA_TYPE': 0,\n",
    "                                'TARGET_EXTENT': None,\n",
    "                                'TARGET_EXTENT_CRS': None,\n",
    "                                'MULTITHREADING': False,\n",
    "                                'EXTRA': '',\n",
    "                                'OUTPUT': out_layer})\n",
    "\n",
    "                print(name + \" get coordinate!\")\n",
    "\n",
    "print(\"Finish!\")"
   ]
  },
  {
   "cell_type": "code",
   "execution_count": null,
   "id": "d8d380c5-ccbf-49ee-87ef-6d534fc4639e",
   "metadata": {},
   "outputs": [],
   "source": []
  }
 ],
 "metadata": {
  "kernelspec": {
   "display_name": "Python 3 (ipykernel)",
   "language": "python",
   "name": "python3"
  },
  "language_info": {
   "codemirror_mode": {
    "name": "ipython",
    "version": 3
   },
   "file_extension": ".py",
   "mimetype": "text/x-python",
   "name": "python",
   "nbconvert_exporter": "python",
   "pygments_lexer": "ipython3",
   "version": "3.7.11"
  }
 },
 "nbformat": 4,
 "nbformat_minor": 5
}
